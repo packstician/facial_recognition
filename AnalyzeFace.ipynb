{
 "cells": [
  {
   "cell_type": "code",
   "execution_count": null,
   "metadata": {},
   "outputs": [
    {
     "data": {
      "text/plain": [
       "Creating new Ultralytics Settings v0.0.6 file ✅ \n",
       "View Ultralytics Settings with 'yolo settings' or at '/Users/benjaminsewell/Library/Application Support/Ultralytics/settings.json'\n",
       "Update Settings with 'yolo settings key=value', i.e. 'yolo settings runs_dir=path/to/dir'. For help see https://docs.ultralytics.com/quickstart/#ultralytics-settings.\n"
      ]
     },
     "metadata": {},
     "output_type": "display_data"
    }
   ],
   "source": [
    "from deepface import DeepFace\n",
    "DEMO = DeepFace.analyze(\"/Users/benjaminsewell/Documents/Python/FacialRecognition/facial_recognition/dataset/Faces/Bailey_Belanger/IMG_8194.jpg\", detector_backend=\"yolov8\")\n"
   ]
  },
  {
   "cell_type": "code",
   "execution_count": null,
   "metadata": {},
   "outputs": [],
   "source": [
    "from PIL import Image\n",
    "\n",
    "import matplotlib.pyplot as plt\n",
    "import matplotlib.patches as patches\n",
    "\n",
    "# Load the image\n",
    "image_path = \"/Users/benjaminsewell/Documents/Python/FacialRecognition/facial_recognition/dataset/Faces/Bailey_Belanger/IMG_8194.jpg\"\n",
    "image = Image.open(image_path)\n"
   ]
  },
  {
   "cell_type": "code",
   "execution_count": null,
   "metadata": {},
   "outputs": [],
   "source": [
    "# Create a figure and axis\n",
    "fig, ax = plt.subplots(1)\n",
    " \n",
    "\n",
    "# Display the image\n",
    "ax.imshow(image)"
   ]
  },
  {
   "cell_type": "code",
   "execution_count": null,
   "metadata": {},
   "outputs": [
    {
     "data": {
      "text/plain": [
       "Traceback (most recent call last):\n",
       "  File \"/Users/benjaminsewell/.vscode/extensions/ms-python.python-2024.16.1-darwin-arm64/python_files/python_server.py\", line 130, in exec_user_input\n",
       "    retval = callable_(user_input, user_globals)\n",
       "             ^^^^^^^^^^^^^^^^^^^^^^^^^^^^^^^^^^^\n",
       "  File \"<string>\", line 9, in <module>\n",
       "TypeError: list indices must be integers or slices, not str\n",
       "\n"
      ]
     },
     "metadata": {},
     "output_type": "display_data"
    }
   ],
   "source": [
    "\n",
    "\n",
    "\n",
    "# Extract the bounding box and emotion data from DEMO\n",
    "bounding_box = DEMO['region']\n",
    "emotion = DEMO['dominant_emotion']\n",
    "\n",
    "# Create a rectangle patch for the bounding box\n",
    "rect = patches.Rectangle((bounding_box['x'], bounding_box['y']), bounding_box['w'], bounding_box['h'], linewidth=2, edgecolor='r', facecolor='none')\n",
    "\n",
    "# Add the rectangle patch to the Axes\n",
    "ax.add_patch(rect)\n",
    "\n",
    "# Annotate the image with the dominant emotion\n",
    "plt.text(bounding_box['x'], bounding_box['y'] - 10, emotion, color='red', fontsize=12, weight='bold')\n",
    "\n",
    "# Show the plot\n",
    "plt.show()"
   ]
  },
  {
   "cell_type": "code",
   "execution_count": null,
   "metadata": {},
   "outputs": [],
   "source": []
  },
  {
   "cell_type": "code",
   "execution_count": null,
   "metadata": {},
   "outputs": [],
   "source": []
  },
  {
   "cell_type": "code",
   "execution_count": null,
   "metadata": {},
   "outputs": [],
   "source": []
  },
  {
   "cell_type": "code",
   "execution_count": null,
   "metadata": {},
   "outputs": [],
   "source": []
  },
  {
   "cell_type": "code",
   "execution_count": null,
   "metadata": {},
   "outputs": [
    {
     "data": {
      "text/plain": [
       "[{'emotion': {'angry': 0.17226628260686994, 'disgust': 0.00010307002185072633, 'fear': 0.00021928608475718647, 'happy': 94.6543037891388, 'sad': 4.719448089599609, 'surprise': 2.095048046157899e-06, 'neutral': 0.453658914193511}, 'dominant_emotion': 'happy', 'region': {'x': 409, 'y': 171, 'w': 582, 'h': 874, 'left_eye': (826, 538), 'right_eye': (563, 595)}, 'face_confidence': 0.86, 'age': 31, 'gender': {'Woman': 43.61707866191864, 'Man': 56.382930278778076}, 'dominant_gender': 'Man', 'race': {'asian': 4.152713265422987e-05, 'indian': 2.5621433614220472e-05, 'black': 3.902010058939942e-07, 'white': 99.53268167571316, 'middle eastern': 0.12030854839808038, 'latino hispanic': 0.3469477614431239}, 'dominant_race': 'white'}]\n"
      ]
     },
     "metadata": {},
     "output_type": "display_data"
    }
   ],
   "source": [
    "DEMO\n",
    "\n",
    "\n"
   ]
  },
  {
   "cell_type": "code",
   "execution_count": null,
   "metadata": {},
   "outputs": [],
   "source": [
    "import pandas as pd\n",
    "import numpy as np\n",
    "\n",
    "\n",
    "\n",
    "def CleanEmotion1(Data, Name):\n",
    "  df = pd.json_normalize(Data)\n",
    "  dfs = pd.concat([pd.Series(Name, name = \"Name\"), df], axis = 1)\n",
    "  dfs.reset_index(drop=False, inplace=True)\n",
    "  return(dfs)\n",
    "\n",
    "def CleanEmotion2(Data, Name):\n",
    "  df = pd.json_normalize(result)\n",
    "  dfs = pd.concat([pd.Series(name*df.shape[0], name = \"Name\"), df], axis = 1)\n",
    "  df = dfs.melt()\n",
    "  df.reset_index(drop=True, inplace=True)\n",
    "  return(df)\n",
    "\n",
    "def CleanEmotion3(Data, Name):\n",
    "  df = pd.json_normalize(result)\n",
    "  df = df.melt()\n",
    "  df = pd.concat([pd.Series(name*df.shape[0], name = \"Name\"), df], axis = 1)\n",
    "  df.reset_index(drop=True, inplace=True)\n",
    "  return(df)"
   ]
  },
  {
   "cell_type": "code",
   "execution_count": null,
   "metadata": {},
   "outputs": [
    {
     "data": {
      "text/plain": [
       "   index             Name  ... race.middle eastern  race.latino hispanic\n",
       "0      0  Bailey_Belanger  ...            0.120309              0.346948\n",
       "\n",
       "[1 rows x 28 columns]\n"
      ]
     },
     "metadata": {},
     "output_type": "display_data"
    }
   ],
   "source": [
    "CleanEmotion1(DEMO, \"Bailey_Belanger\")"
   ]
  }
 ],
 "metadata": {
  "language_info": {
   "name": "python"
  }
 },
 "nbformat": 4,
 "nbformat_minor": 2
}
